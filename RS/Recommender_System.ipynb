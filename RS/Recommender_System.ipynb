{
  "nbformat": 4,
  "nbformat_minor": 0,
  "metadata": {
    "colab": {
      "provenance": [],
      "toc_visible": true,
      "gpuType": "T4"
    },
    "kernelspec": {
      "name": "python3",
      "display_name": "Python 3"
    },
    "language_info": {
      "name": "python"
    },
    "accelerator": "GPU",
    "gpuClass": "standard"
  },
  "cells": [
    {
      "cell_type": "markdown",
      "source": [
        "[![Open in Colab](https://colab.research.google.com/assets/colab-badge.svg)](https://colab.research.google.com/drive/15YmaHoZTMMONDLuCChk2o1JmlYihXhKy?usp=sharing)\n",
        "\n"
      ],
      "metadata": {
        "id": "zATO6_mHXyHf"
      }
    },
    {
      "cell_type": "markdown",
      "source": [
        "# Система рекомендаций фильмов 🎥\n",
        "\n",
        "Системы рекомендаций фильмов предоставляют пользователям механизм, помогающий классифицировать их по схожим интересам. Необходимо построить векторные представления пользователей и фильмов, используя нейросетевые подходы.\n",
        "\n",
        "## 1. Данные\n",
        "Данные были взяты с официального сайта *GroupLens*: https://grouplens.org/datasets/movielens/latest/\n",
        "\n",
        "Поскольку датасет имеет большую размерность, раздзеление данных на валидационный и тренировочные сеты будет в соотношении 20% и 80% соответственно. \n",
        "\n",
        "## 2. Выбор метрики\n",
        "\n",
        "Поскольку перед нами стоит задача регрессии, в качестве метрики качества можно использовать MSE или RMSE, которые позволяют оценить, насколько близко предсказанные оценки фильмов пользователями соответствуют их реальным оценкам.\n",
        "\n",
        "## 3. Архитектура нейронной сети\n",
        "Было прочитанно об архитектуре здесь: https://towardsdatascience.com/neural-collaborative-filtering-96cef1009401\n",
        "\n",
        "В качестве выбора архитектуры нейронной сети, мой выбор пал на модель нейронной коллаборативной фильтрации (NCF), которая используется для рекомендовательных систем. Модель состоит из четырех частей:\n",
        "\n",
        "1. Эмбеддинги пользователей и фильмов - это способ представления пользователей и фильмов в виде векторов фиксированной длины, который используется для обучения модели.\n",
        "2. Обобщенная матричная факторизация (GMF) - это часть модели, которая использует умножение эмбеддингов пользователей и фильмов для получения скрытых факторов, которые объясняют взаимодействия пользователей и фильмов.\n",
        "3. Многослойный перцептрон (MLP) - это часть модели, которая использует скрытые слои для обработки информации об эмбеддингах пользователей и предметов, чтобы получить более высокоуровневые признаки.\n",
        "4. Слой конкатенации - это часть модели, которая объединяет результаты из GMF и MLP, чтобы получить окончательные предсказания о рекомендациях для пользователя.\n",
        "\n",
        "### Параметры модели\n",
        "\n",
        "Для модели NCF будут использоваться следующие параметры:\n",
        "\n",
        "* Размер встраиваемого поля: 20\n",
        "* Количество эпох: 5\n",
        "* Функция потерь: RMSE\n",
        "* Скорость обучения: 0.01\n",
        "* Оптимизация: Adam\n",
        "* Размер Mini-batch: 64\n"
      ],
      "metadata": {
        "id": "XQzBWpwCaYvr"
      }
    },
    {
      "cell_type": "code",
      "source": [
        "# Импорт библиотек\n",
        "import numpy as np\n",
        "import pandas as pd\n",
        "import datetime\n",
        "import matplotlib.pyplot as plt\n",
        "import seaborn as sns"
      ],
      "metadata": {
        "id": "Y1NeH8uGo_PP"
      },
      "execution_count": 1,
      "outputs": []
    },
    {
      "cell_type": "code",
      "source": [
        "# Установка датасета\n",
        "!wget -nc https://files.grouplens.org/datasets/movielens/ml-latest.zip\n",
        "!unzip -n ml-latest.zip"
      ],
      "metadata": {
        "colab": {
          "base_uri": "https://localhost:8080/"
        },
        "id": "5D0dDbppoXke",
        "outputId": "7b6307c8-514a-4d0e-d742-9bb20c0393da"
      },
      "execution_count": 3,
      "outputs": [
        {
          "output_type": "stream",
          "name": "stdout",
          "text": [
            "--2023-05-10 14:25:50--  https://files.grouplens.org/datasets/movielens/ml-latest.zip\n",
            "Resolving files.grouplens.org (files.grouplens.org)... 128.101.65.152\n",
            "Connecting to files.grouplens.org (files.grouplens.org)|128.101.65.152|:443... connected.\n",
            "HTTP request sent, awaiting response... 200 OK\n",
            "Length: 277113433 (264M) [application/zip]\n",
            "Saving to: ‘ml-latest.zip’\n",
            "\n",
            "ml-latest.zip       100%[===================>] 264.28M  56.1MB/s    in 5.0s    \n",
            "\n",
            "2023-05-10 14:25:56 (52.5 MB/s) - ‘ml-latest.zip’ saved [277113433/277113433]\n",
            "\n",
            "Archive:  ml-latest.zip\n",
            "   creating: ml-latest/\n",
            "  inflating: ml-latest/links.csv     \n",
            "  inflating: ml-latest/tags.csv      \n",
            "  inflating: ml-latest/genome-tags.csv  \n",
            "  inflating: ml-latest/ratings.csv   \n",
            "  inflating: ml-latest/README.txt    \n",
            "  inflating: ml-latest/genome-scores.csv  \n",
            "  inflating: ml-latest/movies.csv    \n"
          ]
        }
      ]
    },
    {
      "cell_type": "code",
      "source": [
        "# Загрузка датасетов\n",
        "movie_df = pd.read_csv(\"/content/ml-latest/movies.csv\")\n",
        "tags_df = pd.read_csv(\"/content/ml-latest/tags.csv\", parse_dates=[\"timestamp\"])\n",
        "ratings_df = pd.read_csv(\"/content/ml-latest/ratings.csv\")"
      ],
      "metadata": {
        "id": "kyo1EHA1pvvh"
      },
      "execution_count": 4,
      "outputs": []
    },
    {
      "cell_type": "code",
      "source": [
        "movie_df.info()"
      ],
      "metadata": {
        "colab": {
          "base_uri": "https://localhost:8080/"
        },
        "id": "Qp_lIRzxqbTu",
        "outputId": "e31f7f69-63ee-4ac3-96e1-c6c5aada4d5d"
      },
      "execution_count": 5,
      "outputs": [
        {
          "output_type": "stream",
          "name": "stdout",
          "text": [
            "<class 'pandas.core.frame.DataFrame'>\n",
            "RangeIndex: 58098 entries, 0 to 58097\n",
            "Data columns (total 3 columns):\n",
            " #   Column   Non-Null Count  Dtype \n",
            "---  ------   --------------  ----- \n",
            " 0   movieId  58098 non-null  int64 \n",
            " 1   title    58098 non-null  object\n",
            " 2   genres   58098 non-null  object\n",
            "dtypes: int64(1), object(2)\n",
            "memory usage: 1.3+ MB\n"
          ]
        }
      ]
    },
    {
      "cell_type": "code",
      "source": [
        "tags_df.info()"
      ],
      "metadata": {
        "colab": {
          "base_uri": "https://localhost:8080/"
        },
        "id": "7FllsZFhqocE",
        "outputId": "4c3f11e3-28a4-4e23-cf1b-b838cad3775f"
      },
      "execution_count": 6,
      "outputs": [
        {
          "output_type": "stream",
          "name": "stdout",
          "text": [
            "<class 'pandas.core.frame.DataFrame'>\n",
            "RangeIndex: 1108997 entries, 0 to 1108996\n",
            "Data columns (total 4 columns):\n",
            " #   Column     Non-Null Count    Dtype \n",
            "---  ------     --------------    ----- \n",
            " 0   userId     1108997 non-null  int64 \n",
            " 1   movieId    1108997 non-null  int64 \n",
            " 2   tag        1108981 non-null  object\n",
            " 3   timestamp  1108997 non-null  object\n",
            "dtypes: int64(2), object(2)\n",
            "memory usage: 33.8+ MB\n"
          ]
        }
      ]
    },
    {
      "cell_type": "code",
      "source": [
        "ratings_df.info()"
      ],
      "metadata": {
        "colab": {
          "base_uri": "https://localhost:8080/"
        },
        "id": "JFan69J8qrV8",
        "outputId": "dae064c7-5825-4fe4-9ba6-96eb0f82c997"
      },
      "execution_count": 7,
      "outputs": [
        {
          "output_type": "stream",
          "name": "stdout",
          "text": [
            "<class 'pandas.core.frame.DataFrame'>\n",
            "RangeIndex: 27753444 entries, 0 to 27753443\n",
            "Data columns (total 4 columns):\n",
            " #   Column     Dtype  \n",
            "---  ------     -----  \n",
            " 0   userId     int64  \n",
            " 1   movieId    int64  \n",
            " 2   rating     float64\n",
            " 3   timestamp  int64  \n",
            "dtypes: float64(1), int64(3)\n",
            "memory usage: 847.0 MB\n"
          ]
        }
      ]
    },
    {
      "cell_type": "markdown",
      "source": [
        "## 👌 Подготовка данных\n",
        "\n",
        "Чтобы подготовить данные к модели, их необходимо обработать. Для этого, будет сделано следующее:\n",
        "\n",
        "1. Взять уникальные `id` пользователей. ✅\n",
        "2. Выбрать в случайном порядке 20% пользователей из датасета `ratings.csv`. ✅\n",
        "3. Кодирование `userId` и `movieId` по индексам. ✅\n",
        "4. Разделение данных на тренировочные и валидационные сеты. ✅"
      ],
      "metadata": {
        "id": "EVAiUINrq1MY"
      }
    },
    {
      "cell_type": "code",
      "source": [
        "# Взятие уникальных id пользователей из датасета ratings.csv\n",
        "user_Ids = ratings_df.userId.unique().tolist()\n",
        "num_all_users = len(user_Ids)"
      ],
      "metadata": {
        "id": "8qMeDhRBum-x"
      },
      "execution_count": 8,
      "outputs": []
    },
    {
      "cell_type": "code",
      "source": [
        "print(num_all_users)"
      ],
      "metadata": {
        "colab": {
          "base_uri": "https://localhost:8080/"
        },
        "id": "Bsu2Dn-Qve1t",
        "outputId": "f406fda6-a806-44c6-b065-28a0c3b02064"
      },
      "execution_count": 9,
      "outputs": [
        {
          "output_type": "stream",
          "name": "stdout",
          "text": [
            "283228\n"
          ]
        }
      ]
    },
    {
      "cell_type": "code",
      "source": [
        "# Выбор случайных пользователей из датасета ratings.csv\n",
        "np.random.seed(42)\n",
        "random_users_ids = np.random.choice(user_Ids, \n",
        "                                    size=int(num_all_users * 0.1),\n",
        "                                    replace=True)\n",
        "sample_df = ratings_df.loc[ratings_df[\"userId\"].isin(random_users_ids)]"
      ],
      "metadata": {
        "id": "987oA8YyvkyF"
      },
      "execution_count": 10,
      "outputs": []
    },
    {
      "cell_type": "code",
      "source": [
        "print(random_users_ids)"
      ],
      "metadata": {
        "colab": {
          "base_uri": "https://localhost:8080/"
        },
        "id": "tQ8X4XbzwfM2",
        "outputId": "7e765ad8-3e7e-4938-e4d3-784385f70e27"
      },
      "execution_count": 11,
      "outputs": [
        {
          "output_type": "stream",
          "name": "stdout",
          "text": [
            "[121959 146868 131933 ...  61856  97736 251929]\n"
          ]
        }
      ]
    },
    {
      "cell_type": "code",
      "source": [
        "print(sample_df)"
      ],
      "metadata": {
        "colab": {
          "base_uri": "https://localhost:8080/"
        },
        "id": "p8R6IqO6yaQX",
        "outputId": "ec202e23-a8c7-41df-e310-f6979d8ed96e"
      },
      "execution_count": 12,
      "outputs": [
        {
          "output_type": "stream",
          "name": "stdout",
          "text": [
            "          userId  movieId  rating   timestamp\n",
            "850            6       10     4.0   832039632\n",
            "851            6       21     4.0   832039737\n",
            "852            6       32     5.0   832039879\n",
            "853            6       47     5.0   832039898\n",
            "854            6       50     5.0   832039795\n",
            "...          ...      ...     ...         ...\n",
            "27752683  283216    59604     3.0  1305141821\n",
            "27752684  283216    63859     4.5  1305141395\n",
            "27752685  283216    65142     5.0  1305142195\n",
            "27752686  283216    68965     0.5  1305142175\n",
            "27752687  283216    80222     3.0  1305142057\n",
            "\n",
            "[2699073 rows x 4 columns]\n"
          ]
        }
      ]
    },
    {
      "cell_type": "code",
      "source": [
        "# Кодирование userId по индексам\n",
        "user_Ids = sample_df[\"userId\"].unique()\n",
        "num_users = len(user_Ids)\n",
        "\n",
        "user2user_encoded = {x: i for i, x in enumerate(user_Ids)}\n",
        "user_encoded2user = {i: x for i, x in enumerate(user_Ids)}\n",
        "sample_df[\"user_encoded\"] = sample_df[\"userId\"].map(user2user_encoded)"
      ],
      "metadata": {
        "colab": {
          "base_uri": "https://localhost:8080/"
        },
        "id": "GaIw_bz7wh1c",
        "outputId": "99d878c2-3f78-46be-f6a0-7bc224c7aaa2"
      },
      "execution_count": 13,
      "outputs": [
        {
          "output_type": "stream",
          "name": "stderr",
          "text": [
            "<ipython-input-13-133371e72a7d>:7: SettingWithCopyWarning: \n",
            "A value is trying to be set on a copy of a slice from a DataFrame.\n",
            "Try using .loc[row_indexer,col_indexer] = value instead\n",
            "\n",
            "See the caveats in the documentation: https://pandas.pydata.org/pandas-docs/stable/user_guide/indexing.html#returning-a-view-versus-a-copy\n",
            "  sample_df[\"user_encoded\"] = sample_df[\"userId\"].map(user2user_encoded)\n"
          ]
        }
      ]
    },
    {
      "cell_type": "code",
      "source": [
        "# Кодирование movieId по индексам\n",
        "movie_Ids = sample_df[\"movieId\"].unique()\n",
        "num_movies = len(movie_Ids)\n",
        "movie2movie_encoded = {x: i for i, x in enumerate(movie_Ids)}\n",
        "movie_encoded2movie = {i: x for i, x in enumerate(movie_Ids)}\n",
        "sample_df[\"movie_encoded\"] = sample_df[\"movieId\"].map(movie2movie_encoded)"
      ],
      "metadata": {
        "colab": {
          "base_uri": "https://localhost:8080/"
        },
        "id": "GlGnNccuzUAE",
        "outputId": "902876a9-ad18-40a9-bbf2-51eb69e2dade"
      },
      "execution_count": 14,
      "outputs": [
        {
          "output_type": "stream",
          "name": "stderr",
          "text": [
            "<ipython-input-14-f4bebd62918b>:6: SettingWithCopyWarning: \n",
            "A value is trying to be set on a copy of a slice from a DataFrame.\n",
            "Try using .loc[row_indexer,col_indexer] = value instead\n",
            "\n",
            "See the caveats in the documentation: https://pandas.pydata.org/pandas-docs/stable/user_guide/indexing.html#returning-a-view-versus-a-copy\n",
            "  sample_df[\"movie_encoded\"] = sample_df[\"movieId\"].map(movie2movie_encoded)\n"
          ]
        }
      ]
    },
    {
      "cell_type": "code",
      "source": [
        "print(sample_df)"
      ],
      "metadata": {
        "colab": {
          "base_uri": "https://localhost:8080/"
        },
        "id": "EcHu_wcl0Khz",
        "outputId": "b019e8ed-e716-4dc1-de08-d0c2d3666e69"
      },
      "execution_count": 15,
      "outputs": [
        {
          "output_type": "stream",
          "name": "stdout",
          "text": [
            "          userId  movieId  rating   timestamp  user_encoded  movie_encoded\n",
            "850            6       10     4.0   832039632             0              0\n",
            "851            6       21     4.0   832039737             0              1\n",
            "852            6       32     5.0   832039879             0              2\n",
            "853            6       47     5.0   832039898             0              3\n",
            "854            6       50     5.0   832039795             0              4\n",
            "...          ...      ...     ...         ...           ...            ...\n",
            "27752683  283216    59604     3.0  1305141821         26974           8018\n",
            "27752684  283216    63859     4.5  1305141395         26974           2650\n",
            "27752685  283216    65142     5.0  1305142195         26974          14382\n",
            "27752686  283216    68965     0.5  1305142175         26974          18262\n",
            "27752687  283216    80222     3.0  1305142057         26974           4134\n",
            "\n",
            "[2699073 rows x 6 columns]\n"
          ]
        }
      ]
    },
    {
      "cell_type": "code",
      "source": [
        "# Разделение данных на тренировочные и валидационные сеты\n",
        "from sklearn.model_selection import train_test_split\n",
        "\n",
        "train, test = train_test_split(sample_df,\n",
        "                               test_size=0.2,\n",
        "                               random_state=42)\n",
        "num_train_users = len(np.unique(train[\"user_encoded\"]))\n",
        "num_train_movies = len(np.unique(train[\"movie_encoded\"]))"
      ],
      "metadata": {
        "id": "b-fFjFMC0SWC"
      },
      "execution_count": 16,
      "outputs": []
    },
    {
      "cell_type": "code",
      "source": [
        "# Небольшая сводка по данным\n",
        "print(f\"Total movies: {num_movies}\",\n",
        "      f\"\\nMovies in train: {num_train_movies}\",\n",
        "      f\"\\nMovies not in train: {num_movies - num_train_movies}\",\n",
        "      f\"\\n\",\n",
        "      f\"\\nTotal users: {num_users}\",\n",
        "      f\"\\nUsers in train: {num_train_users}\",\n",
        "      f\"\\nUsers not in train: {num_users - num_train_users}\")"
      ],
      "metadata": {
        "colab": {
          "base_uri": "https://localhost:8080/"
        },
        "id": "4KuC1KzS0jWB",
        "outputId": "4f5b50a4-b64a-4a7d-9261-e58ce46e239f"
      },
      "execution_count": 17,
      "outputs": [
        {
          "output_type": "stream",
          "name": "stdout",
          "text": [
            "Total movies: 36584 \n",
            "Movies in train: 33867 \n",
            "Movies not in train: 2717 \n",
            " \n",
            "Total users: 26975 \n",
            "Users in train: 26842 \n",
            "Users not in train: 133\n"
          ]
        }
      ]
    },
    {
      "cell_type": "markdown",
      "source": [
        "## 🔶 Создание модели\n",
        "\n",
        "Теперь, когда данные обработаны, можно заниматься разработкой модели.\n",
        "\n",
        "Для этого, необходимо сделать несколько шагов:\n",
        "1. Импортирование библиотек для создания модели. ✅\n",
        "2. Создание функции, которая выстраивает архитектуру модели. ✅\n",
        "3. Вывод итоговой информации о модели. ✅"
      ],
      "metadata": {
        "id": "MjT-X-NM1ZE0"
      }
    },
    {
      "cell_type": "code",
      "source": [
        "# Импортирование библиотек для создания модели\n",
        "import tensorflow as tf\n",
        "from tensorflow import keras\n",
        "from keras import layers\n",
        "from keras.models import Model, Sequential\n",
        "from keras.layers import Embedding, Flatten, Input, Add, Dense, Dropout, BatchNormalization, concatenate, dot\n",
        "from keras.optimizers import Adam\n",
        "from keras.utils import plot_model, model_to_dot\n",
        "from keras.constraints import non_neg\n",
        "from IPython.display import SVG\n",
        "from sklearn.metrics import mean_squared_error"
      ],
      "metadata": {
        "id": "PmpqzWCm6-fW"
      },
      "execution_count": 18,
      "outputs": []
    },
    {
      "cell_type": "code",
      "source": [
        "def NCF_model(embed_size=10,\n",
        "              drop_out_prob=0.2):\n",
        "  \"\"\"\n",
        "  Эта функция создаёт NCF модель. На входе, модель принимает число размера встраиваемого слоя, и число с плавающей точкой в качестве вероятности выпадения.\n",
        "  Резулььтатом функции является созданная NCF модель с настроенными слоями.\n",
        "  \"\"\"\n",
        "  # Определение пробела для встраивания входных данных\n",
        "  movie_input = Input(shape=[1], name=\"movie-input\")\n",
        "  user_input = Input(shape=[1], name=\"user-input\")\n",
        "\n",
        "  # MLP эмбеддинги для пользователей и фильмов\n",
        "  movie_embedding_mlp = Embedding(num_movies, embed_size, name=\"movie-embedding-mlp\")(movie_input)\n",
        "  movie_vec_mlp = Flatten(name=\"flatten-movie-mlp\")(movie_embedding_mlp)\n",
        "\n",
        "  user_embedding_mlp = Embedding(num_users, embed_size, name=\"user-embedding-mlp\")(user_input)\n",
        "  user_vec_mlp = Flatten(name=\"flatten-user-mlp\")(user_embedding_mlp)\n",
        "\n",
        "  # MF эмбеддинги для пользования и фильмов\n",
        "  movie_embedding_mf = Embedding(num_movies, embed_size, name='movie-embedding-mf')(movie_input)\n",
        "  movie_vec_mf = Flatten(name='flatten-movie-mf')(movie_embedding_mf)\n",
        "\n",
        "  user_embedding_mf = Embedding(num_users, embed_size, name='user-embedding-mf')(user_input)\n",
        "  user_vec_mf = Flatten(name='flatten-user-mf')(user_embedding_mf)\n",
        "\n",
        "  # MLP слои\n",
        "  concat = concatenate([movie_vec_mlp, user_vec_mlp], axis=-1, name='concat')\n",
        "  concat_dropout = Dropout(drop_out_prob)(concat)\n",
        "\n",
        "  fc_1 = Dense(100, name='fc-1', activation='relu')(concat_dropout)\n",
        "  fc_1_bn = BatchNormalization(name='batch-norm-1')(fc_1)\n",
        "  fc_1_dropout = Dropout(drop_out_prob)(fc_1_bn)\n",
        "\n",
        "  fc_2 = Dense(50, name='fc-2', activation='relu')(fc_1_dropout)\n",
        "  fc_2_bn = BatchNormalization(name='batch-norm-2')(fc_2)\n",
        "  fc_2_dropout = Dropout(drop_out_prob)(fc_2_bn)\n",
        "\n",
        "  # Предсказания из двух слоев\n",
        "  pred_mlp = Dense(10, name='pred-mlp', activation='relu')(fc_2_dropout)\n",
        "  pred_mf = dot([movie_vec_mf, user_vec_mf], axes=1, normalize=False)\n",
        "  combine_mlp_mf = concatenate([pred_mf, pred_mlp], axis=-1, name='pred_mf')\n",
        "\n",
        "  # Итоговое предсказание\n",
        "  result = Dense(1, name='result', activation='relu')(combine_mlp_mf)\n",
        "  model = Model([user_input, movie_input], result)\n",
        "  model.compile(optimizer=Adam(lr=0.01), loss='mean_squared_error')\n",
        "\n",
        "  return model"
      ],
      "metadata": {
        "id": "54766oWV7eMr"
      },
      "execution_count": 19,
      "outputs": []
    },
    {
      "cell_type": "code",
      "source": [
        "# Создание модели\n",
        "model = NCF_model()"
      ],
      "metadata": {
        "colab": {
          "base_uri": "https://localhost:8080/"
        },
        "id": "pbp1F_AL9l_h",
        "outputId": "4e523e0c-036e-4081-bb86-fdc8f3bdf13f"
      },
      "execution_count": 20,
      "outputs": [
        {
          "output_type": "stream",
          "name": "stderr",
          "text": [
            "/usr/local/lib/python3.10/dist-packages/keras/optimizers/legacy/adam.py:117: UserWarning: The `lr` argument is deprecated, use `learning_rate` instead.\n",
            "  super().__init__(name, **kwargs)\n"
          ]
        }
      ]
    },
    {
      "cell_type": "code",
      "source": [
        "# Данные о модели\n",
        "model.summary()"
      ],
      "metadata": {
        "colab": {
          "base_uri": "https://localhost:8080/"
        },
        "id": "xbPvq5QPCKOd",
        "outputId": "94f7664b-c346-4691-cab4-cd82e2ea5fe1"
      },
      "execution_count": 21,
      "outputs": [
        {
          "output_type": "stream",
          "name": "stdout",
          "text": [
            "Model: \"model\"\n",
            "__________________________________________________________________________________________________\n",
            " Layer (type)                   Output Shape         Param #     Connected to                     \n",
            "==================================================================================================\n",
            " movie-input (InputLayer)       [(None, 1)]          0           []                               \n",
            "                                                                                                  \n",
            " user-input (InputLayer)        [(None, 1)]          0           []                               \n",
            "                                                                                                  \n",
            " movie-embedding-mlp (Embedding  (None, 1, 10)       365840      ['movie-input[0][0]']            \n",
            " )                                                                                                \n",
            "                                                                                                  \n",
            " user-embedding-mlp (Embedding)  (None, 1, 10)       269750      ['user-input[0][0]']             \n",
            "                                                                                                  \n",
            " flatten-movie-mlp (Flatten)    (None, 10)           0           ['movie-embedding-mlp[0][0]']    \n",
            "                                                                                                  \n",
            " flatten-user-mlp (Flatten)     (None, 10)           0           ['user-embedding-mlp[0][0]']     \n",
            "                                                                                                  \n",
            " concat (Concatenate)           (None, 20)           0           ['flatten-movie-mlp[0][0]',      \n",
            "                                                                  'flatten-user-mlp[0][0]']       \n",
            "                                                                                                  \n",
            " dropout (Dropout)              (None, 20)           0           ['concat[0][0]']                 \n",
            "                                                                                                  \n",
            " fc-1 (Dense)                   (None, 100)          2100        ['dropout[0][0]']                \n",
            "                                                                                                  \n",
            " batch-norm-1 (BatchNormalizati  (None, 100)         400         ['fc-1[0][0]']                   \n",
            " on)                                                                                              \n",
            "                                                                                                  \n",
            " dropout_1 (Dropout)            (None, 100)          0           ['batch-norm-1[0][0]']           \n",
            "                                                                                                  \n",
            " fc-2 (Dense)                   (None, 50)           5050        ['dropout_1[0][0]']              \n",
            "                                                                                                  \n",
            " movie-embedding-mf (Embedding)  (None, 1, 10)       365840      ['movie-input[0][0]']            \n",
            "                                                                                                  \n",
            " user-embedding-mf (Embedding)  (None, 1, 10)        269750      ['user-input[0][0]']             \n",
            "                                                                                                  \n",
            " batch-norm-2 (BatchNormalizati  (None, 50)          200         ['fc-2[0][0]']                   \n",
            " on)                                                                                              \n",
            "                                                                                                  \n",
            " flatten-movie-mf (Flatten)     (None, 10)           0           ['movie-embedding-mf[0][0]']     \n",
            "                                                                                                  \n",
            " flatten-user-mf (Flatten)      (None, 10)           0           ['user-embedding-mf[0][0]']      \n",
            "                                                                                                  \n",
            " dropout_2 (Dropout)            (None, 50)           0           ['batch-norm-2[0][0]']           \n",
            "                                                                                                  \n",
            " dot (Dot)                      (None, 1)            0           ['flatten-movie-mf[0][0]',       \n",
            "                                                                  'flatten-user-mf[0][0]']        \n",
            "                                                                                                  \n",
            " pred-mlp (Dense)               (None, 10)           510         ['dropout_2[0][0]']              \n",
            "                                                                                                  \n",
            " pred_mf (Concatenate)          (None, 11)           0           ['dot[0][0]',                    \n",
            "                                                                  'pred-mlp[0][0]']               \n",
            "                                                                                                  \n",
            " result (Dense)                 (None, 1)            12          ['pred_mf[0][0]']                \n",
            "                                                                                                  \n",
            "==================================================================================================\n",
            "Total params: 1,279,452\n",
            "Trainable params: 1,279,152\n",
            "Non-trainable params: 300\n",
            "__________________________________________________________________________________________________\n"
          ]
        }
      ]
    },
    {
      "cell_type": "markdown",
      "source": [
        "## 🔧 Обучение модели \n",
        "\n",
        "Теперь, когда модель создана, можно её обучить на тренировочном сете, с размером встраиваемого слоя 25 и с вероятностью по умолчанию, которая указана в функции для создания модели. "
      ],
      "metadata": {
        "id": "LFLTeYEWCM6n"
      }
    },
    {
      "cell_type": "code",
      "source": [
        "# Создание модели\n",
        "model = NCF_model(embed_size=25)\n",
        "history = model.fit([train.user_encoded, train.movie_encoded], \n",
        "                    train.rating, \n",
        "                    epochs=5)"
      ],
      "metadata": {
        "colab": {
          "base_uri": "https://localhost:8080/",
          "height": 410
        },
        "id": "-Sb_icT-C8pV",
        "outputId": "db41ad5a-cbbf-4177-b2ad-9f7cfc504999"
      },
      "execution_count": 22,
      "outputs": [
        {
          "output_type": "stream",
          "name": "stdout",
          "text": [
            "Epoch 1/5\n",
            "67477/67477 [==============================] - 431s 6ms/step - loss: 0.8600\n",
            "Epoch 2/5\n",
            "67477/67477 [==============================] - 426s 6ms/step - loss: 0.7928\n",
            "Epoch 3/5\n",
            "67477/67477 [==============================] - 421s 6ms/step - loss: 0.7731\n",
            "Epoch 4/5\n",
            "67477/67477 [==============================] - 423s 6ms/step - loss: 0.7614\n",
            "Epoch 5/5\n",
            "67477/67477 [==============================] - 440s 7ms/step - loss: 0.7527\n"
          ]
        },
        {
          "output_type": "error",
          "ename": "AttributeError",
          "evalue": "ignored",
          "traceback": [
            "\u001b[0;31m---------------------------------------------------------------------------\u001b[0m",
            "\u001b[0;31mAttributeError\u001b[0m                            Traceback (most recent call last)",
            "\u001b[0;32m<ipython-input-22-6bca2aea7fe7>\u001b[0m in \u001b[0;36m<cell line: 7>\u001b[0;34m()\u001b[0m\n\u001b[1;32m      5\u001b[0m                     epochs=5)\n\u001b[1;32m      6\u001b[0m \u001b[0;34m\u001b[0m\u001b[0m\n\u001b[0;32m----> 7\u001b[0;31m \u001b[0mpd\u001b[0m\u001b[0;34m.\u001b[0m\u001b[0mSeries\u001b[0m\u001b[0;34m(\u001b[0m\u001b[0mhistory\u001b[0m\u001b[0;34m.\u001b[0m\u001b[0mhisrory\u001b[0m\u001b[0;34m[\u001b[0m\u001b[0;34m\"loss\"\u001b[0m\u001b[0;34m]\u001b[0m\u001b[0;34m)\u001b[0m\u001b[0;34m.\u001b[0m\u001b[0mplot\u001b[0m\u001b[0;34m(\u001b[0m\u001b[0mlogy\u001b[0m\u001b[0;34m=\u001b[0m\u001b[0;32mTrue\u001b[0m\u001b[0;34m)\u001b[0m\u001b[0;34m\u001b[0m\u001b[0;34m\u001b[0m\u001b[0m\n\u001b[0m\u001b[1;32m      8\u001b[0m \u001b[0mplt\u001b[0m\u001b[0;34m.\u001b[0m\u001b[0mxlabel\u001b[0m\u001b[0;34m(\u001b[0m\u001b[0;34m\"Epoch\"\u001b[0m\u001b[0;34m)\u001b[0m\u001b[0;34m\u001b[0m\u001b[0;34m\u001b[0m\u001b[0m\n\u001b[1;32m      9\u001b[0m \u001b[0mplt\u001b[0m\u001b[0;34m.\u001b[0m\u001b[0mylabel\u001b[0m\u001b[0;34m(\u001b[0m\u001b[0;34m\"Train Error\"\u001b[0m\u001b[0;34m)\u001b[0m\u001b[0;34m\u001b[0m\u001b[0;34m\u001b[0m\u001b[0m\n",
            "\u001b[0;31mAttributeError\u001b[0m: 'History' object has no attribute 'hisrory'"
          ]
        }
      ]
    },
    {
      "cell_type": "code",
      "source": [
        "pd.Series(history.history[\"loss\"]).plot(logy=True)\n",
        "plt.xlabel(\"Epoch\")\n",
        "plt.ylabel(\"Train Error\")\n",
        "plt.show()"
      ],
      "metadata": {
        "colab": {
          "base_uri": "https://localhost:8080/",
          "height": 449
        },
        "id": "XKmju7pxMpti",
        "outputId": "97575a22-e3a9-4173-85ff-7c2a6bd3804d"
      },
      "execution_count": 23,
      "outputs": [
        {
          "output_type": "display_data",
          "data": {
            "text/plain": [
              "<Figure size 640x480 with 1 Axes>"
            ],
            "image/png": "[encoded data removed]"
          },
          "metadata": {}
        }
      ]
    },
    {
      "cell_type": "markdown",
      "source": [
        "## ⭐ Оценка модели\n",
        "\n",
        "Оценка модели производится по метрике RMSE. Оценка будет производиться на валидационном сете."
      ],
      "metadata": {
        "id": "dsHH5N3BEQBZ"
      }
    },
    {
      "cell_type": "code",
      "source": [
        "# Предсказание рейтинга на валидационном сете\n",
        "y_pred = np.round(model.predict([test.user_encoded, test.movie_encoded]), decimals=2)\n",
        "y_true = test[\"rating\"]"
      ],
      "metadata": {
        "colab": {
          "base_uri": "https://localhost:8080/"
        },
        "id": "iafCQ3o6Mcj8",
        "outputId": "f278c5ba-eea6-4f4a-c549-d7471457ddc3"
      },
      "execution_count": 24,
      "outputs": [
        {
          "output_type": "stream",
          "name": "stdout",
          "text": [
            "16870/16870 [==============================] - 43s 3ms/step\n"
          ]
        }
      ]
    },
    {
      "cell_type": "code",
      "source": [
        "from sklearn.metrics import mean_squared_error\n",
        "print(f\"Test RMSE: {mean_squared_error(y_true, y_pred)}\")"
      ],
      "metadata": {
        "colab": {
          "base_uri": "https://localhost:8080/"
        },
        "id": "zvtAYzQNNJ0K",
        "outputId": "a4d042a8-6dbc-460e-dbf4-76318c94ffa4"
      },
      "execution_count": 25,
      "outputs": [
        {
          "output_type": "stream",
          "name": "stdout",
          "text": [
            "Test RMSE: 0.7984851067805789\n"
          ]
        }
      ]
    },
    {
      "cell_type": "code",
      "source": [
        "# Создание датафрейма с предсказанными данными\n",
        "data = {\n",
        "    \"prediction\": y_pred.tolist(),\n",
        "    \"true_value\": y_true.values.tolist()\n",
        "}\n",
        "test_pred_df = pd.DataFrame(data)\n",
        "test_pred_df.head()"
      ],
      "metadata": {
        "colab": {
          "base_uri": "https://localhost:8080/",
          "height": 206
        },
        "id": "iYOZmzfUNeqI",
        "outputId": "1176c145-3441-4a94-b5a4-370ede6979a7"
      },
      "execution_count": 26,
      "outputs": [
        {
          "output_type": "execute_result",
          "data": {
            "text/plain": [
              "             prediction  true_value\n",
              "0   [4.289999961853027]         4.0\n",
              "1  [3.4800000190734863]         1.0\n",
              "2  [3.5799999237060547]         4.0\n",
              "3   [4.090000152587891]         4.0\n",
              "4  [3.8499999046325684]         3.0"
            ],
            "text/html": [
              "\n",
              "  <div id=\"df-dbc0cb12-597e-4892-a2af-2fdf1a7d02dd\">\n",
              "    <div class=\"colab-df-container\">\n",
              "      <div>\n",
              "<style scoped>\n",
              "    .dataframe tbody tr th:only-of-type {\n",
              "        vertical-align: middle;\n",
              "    }\n",
              "\n",
              "    .dataframe tbody tr th {\n",
              "        vertical-align: top;\n",
              "    }\n",
              "\n",
              "    .dataframe thead th {\n",
              "        text-align: right;\n",
              "    }\n",
              "</style>\n",
              "<table border=\"1\" class=\"dataframe\">\n",
              "  <thead>\n",
              "    <tr style=\"text-align: right;\">\n",
              "      <th></th>\n",
              "      <th>prediction</th>\n",
              "      <th>true_value</th>\n",
              "    </tr>\n",
              "  </thead>\n",
              "  <tbody>\n",
              "    <tr>\n",
              "      <th>0</th>\n",
              "      <td>[4.289999961853027]</td>\n",
              "      <td>4.0</td>\n",
              "    </tr>\n",
              "    <tr>\n",
              "      <th>1</th>\n",
              "      <td>[3.4800000190734863]</td>\n",
              "      <td>1.0</td>\n",
              "    </tr>\n",
              "    <tr>\n",
              "      <th>2</th>\n",
              "      <td>[3.5799999237060547]</td>\n",
              "      <td>4.0</td>\n",
              "    </tr>\n",
              "    <tr>\n",
              "      <th>3</th>\n",
              "      <td>[4.090000152587891]</td>\n",
              "      <td>4.0</td>\n",
              "    </tr>\n",
              "    <tr>\n",
              "      <th>4</th>\n",
              "      <td>[3.8499999046325684]</td>\n",
              "      <td>3.0</td>\n",
              "    </tr>\n",
              "  </tbody>\n",
              "</table>\n",
              "</div>\n",
              "      <button class=\"colab-df-convert\" onclick=\"convertToInteractive('df-dbc0cb12-597e-4892-a2af-2fdf1a7d02dd')\"\n",
              "              title=\"Convert this dataframe to an interactive table.\"\n",
              "              style=\"display:none;\">\n",
              "        \n",
              "  <svg xmlns=\"http://www.w3.org/2000/svg\" height=\"24px\"viewBox=\"0 0 24 24\"\n",
              "       width=\"24px\">\n",
              "    <path d=\"M0 0h24v24H0V0z\" fill=\"none\"/>\n",
              "    <path d=\"M18.56 5.44l.94 2.06.94-2.06 2.06-.94-2.06-.94-.94-2.06-.94 2.06-2.06.94zm-11 1L8.5 8.5l.94-2.06 2.06-.94-2.06-.94L8.5 2.5l-.94 2.06-2.06.94zm10 10l.94 2.06.94-2.06 2.06-.94-2.06-.94-.94-2.06-.94 2.06-2.06.94z\"/><path d=\"M17.41 7.96l-1.37-1.37c-.4-.4-.92-.59-1.43-.59-.52 0-1.04.2-1.43.59L10.3 9.45l-7.72 7.72c-.78.78-.78 2.05 0 2.83L4 21.41c.39.39.9.59 1.41.59.51 0 1.02-.2 1.41-.59l7.78-7.78 2.81-2.81c.8-.78.8-2.07 0-2.86zM5.41 20L4 18.59l7.72-7.72 1.47 1.35L5.41 20z\"/>\n",
              "  </svg>\n",
              "      </button>\n",
              "      \n",
              "  <style>\n",
              "    .colab-df-container {\n",
              "      display:flex;\n",
              "      flex-wrap:wrap;\n",
              "      gap: 12px;\n",
              "    }\n",
              "\n",
              "    .colab-df-convert {\n",
              "      background-color: #E8F0FE;\n",
              "      border: none;\n",
              "      border-radius: 50%;\n",
              "      cursor: pointer;\n",
              "      display: none;\n",
              "      fill: #1967D2;\n",
              "      height: 32px;\n",
              "      padding: 0 0 0 0;\n",
              "      width: 32px;\n",
              "    }\n",
              "\n",
              "    .colab-df-convert:hover {\n",
              "      background-color: #E2EBFA;\n",
              "      box-shadow: 0px 1px 2px rgba(60, 64, 67, 0.3), 0px 1px 3px 1px rgba(60, 64, 67, 0.15);\n",
              "      fill: #174EA6;\n",
              "    }\n",
              "\n",
              "    [theme=dark] .colab-df-convert {\n",
              "      background-color: #3B4455;\n",
              "      fill: #D2E3FC;\n",
              "    }\n",
              "\n",
              "    [theme=dark] .colab-df-convert:hover {\n",
              "      background-color: #434B5C;\n",
              "      box-shadow: 0px 1px 3px 1px rgba(0, 0, 0, 0.15);\n",
              "      filter: drop-shadow(0px 1px 2px rgba(0, 0, 0, 0.3));\n",
              "      fill: #FFFFFF;\n",
              "    }\n",
              "  </style>\n",
              "\n",
              "      <script>\n",
              "        const buttonEl =\n",
              "          document.querySelector('#df-dbc0cb12-597e-4892-a2af-2fdf1a7d02dd button.colab-df-convert');\n",
              "        buttonEl.style.display =\n",
              "          google.colab.kernel.accessAllowed ? 'block' : 'none';\n",
              "\n",
              "        async function convertToInteractive(key) {\n",
              "          const element = document.querySelector('#df-dbc0cb12-597e-4892-a2af-2fdf1a7d02dd');\n",
              "          const dataTable =\n",
              "            await google.colab.kernel.invokeFunction('convertToInteractive',\n",
              "                                                     [key], {});\n",
              "          if (!dataTable) return;\n",
              "\n",
              "          const docLinkHtml = 'Like what you see? Visit the ' +\n",
              "            '<a target=\"_blank\" href=https://colab.research.google.com/notebooks/data_table.ipynb>data table notebook</a>'\n",
              "            + ' to learn more about interactive tables.';\n",
              "          element.innerHTML = '';\n",
              "          dataTable['output_type'] = 'display_data';\n",
              "          await google.colab.output.renderOutput(dataTable, element);\n",
              "          const docLink = document.createElement('div');\n",
              "          docLink.innerHTML = docLinkHtml;\n",
              "          element.appendChild(docLink);\n",
              "        }\n",
              "      </script>\n",
              "    </div>\n",
              "  </div>\n",
              "  "
            ]
          },
          "metadata": {},
          "execution_count": 26
        }
      ]
    },
    {
      "cell_type": "markdown",
      "source": [
        "Подсчитаем количество оценок для всех пользователей."
      ],
      "metadata": {
        "id": "iGiEkEBqNyJK"
      }
    },
    {
      "cell_type": "code",
      "source": [
        "user_counts = sample_df.groupby('userId').size()"
      ],
      "metadata": {
        "id": "OqVjnYa7N-Kv"
      },
      "execution_count": 27,
      "outputs": []
    },
    {
      "cell_type": "code",
      "source": [
        "# Построение графика распределения оценок\n",
        "fig, ax = plt.subplots(figsize=(8, 6))\n",
        "sns.set_style('darkgrid')\n",
        "\n",
        "sns.histplot(user_counts, binwidth=20, ax=ax)\n",
        "ax.set(ylim=[0,6000], xlim=[0,400], title='Распределение оценок пользователей', xlabel='Количество оценок');"
      ],
      "metadata": {
        "colab": {
          "base_uri": "https://localhost:8080/",
          "height": 564
        },
        "id": "dvx3I9fIOBVi",
        "outputId": "93a4a26a-29e4-41a7-f258-57ceb77df9ee"
      },
      "execution_count": 30,
      "outputs": [
        {
          "output_type": "display_data",
          "data": {
            "text/plain": [
              "<Figure size 800x600 with 1 Axes>"
            ],
            "image/png": "[encoded data removed]"
          },
          "metadata": {}
        }
      ]
    },
    {
      "cell_type": "markdown",
      "source": [
        "Классифицируем пользователей на основе распределения оценок. Это необходимо, чтобы просчитать метрику RMSE для всех групп пользователей."
      ],
      "metadata": {
        "id": "CUvZJEwZORoR"
      }
    },
    {
      "cell_type": "code",
      "source": [
        "# Создание словаря с количеством оценок для каждой категории\n",
        "active_levels = ['<10', '10-20', '20-50', '50-80', '80-150', '>150']\n",
        "\n",
        "user_counts_levels = dict.fromkeys(active_levels, None)\n",
        "user_counts_levels['<10'] = user_counts[user_counts < 10]\n",
        "user_counts_levels['10-20'] = user_counts[(user_counts >= 10) & (user_counts < 20)]\n",
        "user_counts_levels['20-50'] = user_counts[(user_counts >= 20) & (user_counts < 50)]\n",
        "user_counts_levels['50-80'] = user_counts[(user_counts >= 50) & (user_counts < 80)]\n",
        "user_counts_levels['80-150'] = user_counts[(user_counts >= 80) & (user_counts < 150)]\n",
        "user_counts_levels['>150'] = user_counts[user_counts >= 150]"
      ],
      "metadata": {
        "id": "eKWQf4CjOh9c"
      },
      "execution_count": 32,
      "outputs": []
    },
    {
      "cell_type": "code",
      "source": [
        "user_level_rmse = []\n",
        "for key in active_levels:\n",
        "    indices = user_counts_levels[key].index.tolist()\n",
        "    pred_df = sample_df[sample_df['userId'].isin(indices)]\n",
        "    y_true = pred_df['rating']\n",
        "    y_pred = model.predict([pred_df['user_encoded'], pred_df['movie_encoded']])\n",
        "    user_level_rmse.append(mean_squared_error(y_true, y_pred))"
      ],
      "metadata": {
        "colab": {
          "base_uri": "https://localhost:8080/"
        },
        "id": "btiThRxCOrkf",
        "outputId": "7cddb43f-873d-467f-bb2a-76835e573c8a"
      },
      "execution_count": 33,
      "outputs": [
        {
          "output_type": "stream",
          "name": "stdout",
          "text": [
            "558/558 [==============================] - 1s 2ms/step\n",
            "3004/3004 [==============================] - 7s 2ms/step\n",
            "6033/6033 [==============================] - 11s 2ms/step\n",
            "5478/5478 [==============================] - 10s 2ms/step\n",
            "11167/11167 [==============================] - 21s 2ms/step\n",
            "58109/58109 [==============================] - 109s 2ms/step\n"
          ]
        }
      ]
    },
    {
      "cell_type": "code",
      "source": [
        "# Построение графика распределения оценок по RMSE для каждой категории\n",
        "fig, ax = plt.subplots(figsize=(8, 6))\n",
        "sns.set_style('darkgrid')\n",
        "sns.pointplot(y=user_level_rmse, x=np.arange(6))\n",
        "ax.set(xticklabels=active_levels, xlabel='Количество оценок', ylabel='RMSE');"
      ],
      "metadata": {
        "colab": {
          "base_uri": "https://localhost:8080/",
          "height": 542
        },
        "id": "5ra-eO0jO_QK",
        "outputId": "cfee588f-c6f4-459b-d58b-eb78d8b9625f"
      },
      "execution_count": 36,
      "outputs": [
        {
          "output_type": "display_data",
          "data": {
            "text/plain": [
              "<Figure size 800x600 with 1 Axes>"
            ],
            "image/png": "[encoded data removed]"
          },
          "metadata": {}
        }
      ]
    },
    {
      "cell_type": "markdown",
      "source": [
        "### Кросс-Валидация на валидационном сете\n",
        "\n",
        "Выборкой для кросс-валидации будет являться 100000 экземпляров данных из тренировочных данных в качестве валидационного сета."
      ],
      "metadata": {
        "id": "Z0Ir_725QHqh"
      }
    },
    {
      "cell_type": "code",
      "source": [
        "from sklearn.model_selection import KFold\n",
        "\n",
        "valid_df_size = 100000\n",
        "valid_df = train.sample(n=int(valid_df_size), \n",
        "                        replace=False, \n",
        "                        random_state=42)\n",
        "\n",
        "embedding_layers = [5, 10, 15, 20, 25, 30]"
      ],
      "metadata": {
        "id": "LreXCgFsQldn"
      },
      "execution_count": 37,
      "outputs": []
    },
    {
      "cell_type": "code",
      "source": [
        "# Создание функции для обучения модели с кросс-валидацией\n",
        "def NCF_cross_validation(cv_df, \n",
        "                         eb_layers, \n",
        "                         drop_prob=0.2, \n",
        "                         epoch=3, \n",
        "                         n_split=3):\n",
        "    \"\"\"\n",
        "    Эта функция создает результат кросс-валидации на валидационном сете. В качестве входных данных функция \n",
        "    принимает набор проверочных данных, список размеров слоя встраивания, вероятность отсева, количество эпох, количество кратностей.\n",
        "    Функция возвращает спискок кросс-валидации для каждого параметра.\n",
        "    \"\"\"\n",
        "    \n",
        "    cv_result = []\n",
        "\n",
        "    for el in eb_layers:      \n",
        "        temp_loss = []\n",
        "        itr_idx = 0\n",
        "        \n",
        "        for train_idx, test_idx in KFold(n_split).split(cv_df):          \n",
        "            cv_train_x = cv_df.iloc[train_idx][['user_encoded', 'movie_encoded']]\n",
        "            cv_test_x = cv_df.iloc[test_idx][['user_encoded', 'movie_encoded']]\n",
        "            cv_train_y = cv_df.iloc[train_idx]['rating']\n",
        "            cv_test_y = cv_df.iloc[test_idx]['rating']\n",
        "\n",
        "            model_cv = NCF_model()\n",
        "            model_cv.fit([cv_train_x['user_encoded'], cv_train_x['movie_encoded']], cv_train_y, epochs=epoch)\n",
        "            \n",
        "            curr_loss = model_cv.evaluate([cv_df['user_encoded'], cv_df['movie_encoded']], cv_df['rating'])\n",
        "            temp_loss.append(curr_loss)         \n",
        "            \n",
        "            itr_idx += 1\n",
        "            \n",
        "        cv_result.append(sum(temp_loss) / n_split)\n",
        "            \n",
        "    return cv_result"
      ],
      "metadata": {
        "id": "Ifm2yI5cQwRC"
      },
      "execution_count": 38,
      "outputs": []
    },
    {
      "cell_type": "code",
      "source": [
        "result = NCF_cross_validation(valid_df, \n",
        "                              embedding_layers)"
      ],
      "metadata": {
        "colab": {
          "base_uri": "https://localhost:8080/"
        },
        "id": "x0f1GiqoRwtm",
        "outputId": "342e3fd3-7580-4527-e4d6-f28d28ce08e2"
      },
      "execution_count": 39,
      "outputs": [
        {
          "output_type": "stream",
          "name": "stderr",
          "text": [
            "/usr/local/lib/python3.10/dist-packages/keras/optimizers/legacy/adam.py:117: UserWarning: The `lr` argument is deprecated, use `learning_rate` instead.\n",
            "  super().__init__(name, **kwargs)\n"
          ]
        },
        {
          "output_type": "stream",
          "name": "stdout",
          "text": [
            "Epoch 1/3\n",
            "2084/2084 [==============================] - 15s 6ms/step - loss: 1.2062\n",
            "Epoch 2/3\n",
            "2084/2084 [==============================] - 13s 6ms/step - loss: 0.9103\n",
            "Epoch 3/3\n",
            "2084/2084 [==============================] - 13s 6ms/step - loss: 0.7881\n",
            "3125/3125 [==============================] - 7s 2ms/step - loss: 0.6984\n",
            "Epoch 1/3\n"
          ]
        },
        {
          "output_type": "stream",
          "name": "stderr",
          "text": [
            "/usr/local/lib/python3.10/dist-packages/keras/optimizers/legacy/adam.py:117: UserWarning: The `lr` argument is deprecated, use `learning_rate` instead.\n",
            "  super().__init__(name, **kwargs)\n"
          ]
        },
        {
          "output_type": "stream",
          "name": "stdout",
          "text": [
            "2084/2084 [==============================] - 14s 6ms/step - loss: 1.1944\n",
            "Epoch 2/3\n",
            "2084/2084 [==============================] - 13s 6ms/step - loss: 0.9093\n",
            "Epoch 3/3\n",
            "2084/2084 [==============================] - 13s 6ms/step - loss: 0.5964\n",
            "3125/3125 [==============================] - 7s 2ms/step - loss: 0.5386\n",
            "Epoch 1/3\n"
          ]
        },
        {
          "output_type": "stream",
          "name": "stderr",
          "text": [
            "/usr/local/lib/python3.10/dist-packages/keras/optimizers/legacy/adam.py:117: UserWarning: The `lr` argument is deprecated, use `learning_rate` instead.\n",
            "  super().__init__(name, **kwargs)\n"
          ]
        },
        {
          "output_type": "stream",
          "name": "stdout",
          "text": [
            "2084/2084 [==============================] - 14s 6ms/step - loss: 1.2263\n",
            "Epoch 2/3\n",
            "2084/2084 [==============================] - 13s 6ms/step - loss: 0.8729\n",
            "Epoch 3/3\n",
            "2084/2084 [==============================] - 13s 6ms/step - loss: 0.6115\n",
            "3125/3125 [==============================] - 7s 2ms/step - loss: 0.5342\n",
            "Epoch 1/3\n"
          ]
        },
        {
          "output_type": "stream",
          "name": "stderr",
          "text": [
            "/usr/local/lib/python3.10/dist-packages/keras/optimizers/legacy/adam.py:117: UserWarning: The `lr` argument is deprecated, use `learning_rate` instead.\n",
            "  super().__init__(name, **kwargs)\n"
          ]
        },
        {
          "output_type": "stream",
          "name": "stdout",
          "text": [
            "2084/2084 [==============================] - 14s 6ms/step - loss: 1.2036\n",
            "Epoch 2/3\n",
            "2084/2084 [==============================] - 12s 6ms/step - loss: 0.8763\n",
            "Epoch 3/3\n",
            "2084/2084 [==============================] - 13s 6ms/step - loss: 0.5128\n",
            "3125/3125 [==============================] - 6s 2ms/step - loss: 0.5143\n",
            "Epoch 1/3\n"
          ]
        },
        {
          "output_type": "stream",
          "name": "stderr",
          "text": [
            "/usr/local/lib/python3.10/dist-packages/keras/optimizers/legacy/adam.py:117: UserWarning: The `lr` argument is deprecated, use `learning_rate` instead.\n",
            "  super().__init__(name, **kwargs)\n"
          ]
        },
        {
          "output_type": "stream",
          "name": "stdout",
          "text": [
            "2084/2084 [==============================] - 14s 6ms/step - loss: 1.1875\n",
            "Epoch 2/3\n",
            "2084/2084 [==============================] - 13s 6ms/step - loss: 0.9098\n",
            "Epoch 3/3\n",
            "2084/2084 [==============================] - 13s 6ms/step - loss: 0.6123\n",
            "3125/3125 [==============================] - 7s 2ms/step - loss: 0.5302\n",
            "Epoch 1/3\n"
          ]
        },
        {
          "output_type": "stream",
          "name": "stderr",
          "text": [
            "/usr/local/lib/python3.10/dist-packages/keras/optimizers/legacy/adam.py:117: UserWarning: The `lr` argument is deprecated, use `learning_rate` instead.\n",
            "  super().__init__(name, **kwargs)\n"
          ]
        },
        {
          "output_type": "stream",
          "name": "stdout",
          "text": [
            "2084/2084 [==============================] - 14s 6ms/step - loss: 1.2169\n",
            "Epoch 2/3\n",
            "2084/2084 [==============================] - 13s 6ms/step - loss: 0.8904\n",
            "Epoch 3/3\n",
            "2084/2084 [==============================] - 13s 6ms/step - loss: 0.6057\n",
            "3125/3125 [==============================] - 7s 2ms/step - loss: 0.5334\n",
            "Epoch 1/3\n"
          ]
        },
        {
          "output_type": "stream",
          "name": "stderr",
          "text": [
            "/usr/local/lib/python3.10/dist-packages/keras/optimizers/legacy/adam.py:117: UserWarning: The `lr` argument is deprecated, use `learning_rate` instead.\n",
            "  super().__init__(name, **kwargs)\n"
          ]
        },
        {
          "output_type": "stream",
          "name": "stdout",
          "text": [
            "2084/2084 [==============================] - 14s 6ms/step - loss: 1.1952\n",
            "Epoch 2/3\n",
            "2084/2084 [==============================] - 12s 6ms/step - loss: 0.8852\n",
            "Epoch 3/3\n",
            "2084/2084 [==============================] - 13s 6ms/step - loss: 0.6011\n",
            "3125/3125 [==============================] - 7s 2ms/step - loss: 0.5284\n",
            "Epoch 1/3\n"
          ]
        },
        {
          "output_type": "stream",
          "name": "stderr",
          "text": [
            "/usr/local/lib/python3.10/dist-packages/keras/optimizers/legacy/adam.py:117: UserWarning: The `lr` argument is deprecated, use `learning_rate` instead.\n",
            "  super().__init__(name, **kwargs)\n"
          ]
        },
        {
          "output_type": "stream",
          "name": "stdout",
          "text": [
            "2084/2084 [==============================] - 14s 6ms/step - loss: 1.2362\n",
            "Epoch 2/3\n",
            "2084/2084 [==============================] - 12s 6ms/step - loss: 0.8666\n",
            "Epoch 3/3\n",
            "2084/2084 [==============================] - 12s 6ms/step - loss: 0.6153\n",
            "3125/3125 [==============================] - 7s 2ms/step - loss: 0.5318\n",
            "Epoch 1/3\n"
          ]
        },
        {
          "output_type": "stream",
          "name": "stderr",
          "text": [
            "/usr/local/lib/python3.10/dist-packages/keras/optimizers/legacy/adam.py:117: UserWarning: The `lr` argument is deprecated, use `learning_rate` instead.\n",
            "  super().__init__(name, **kwargs)\n"
          ]
        },
        {
          "output_type": "stream",
          "name": "stdout",
          "text": [
            "2084/2084 [==============================] - 14s 6ms/step - loss: 1.2087\n",
            "Epoch 2/3\n",
            "2084/2084 [==============================] - 13s 6ms/step - loss: 0.9033\n",
            "Epoch 3/3\n",
            "2084/2084 [==============================] - 12s 6ms/step - loss: 0.5814\n",
            "3125/3125 [==============================] - 6s 2ms/step - loss: 0.5276\n",
            "Epoch 1/3\n"
          ]
        },
        {
          "output_type": "stream",
          "name": "stderr",
          "text": [
            "/usr/local/lib/python3.10/dist-packages/keras/optimizers/legacy/adam.py:117: UserWarning: The `lr` argument is deprecated, use `learning_rate` instead.\n",
            "  super().__init__(name, **kwargs)\n"
          ]
        },
        {
          "output_type": "stream",
          "name": "stdout",
          "text": [
            "2084/2084 [==============================] - 14s 6ms/step - loss: 1.1951\n",
            "Epoch 2/3\n",
            "2084/2084 [==============================] - 12s 6ms/step - loss: 0.8397\n",
            "Epoch 3/3\n",
            "2084/2084 [==============================] - 12s 6ms/step - loss: 0.4452\n",
            "3125/3125 [==============================] - 7s 2ms/step - loss: 0.5146\n",
            "Epoch 1/3\n"
          ]
        },
        {
          "output_type": "stream",
          "name": "stderr",
          "text": [
            "/usr/local/lib/python3.10/dist-packages/keras/optimizers/legacy/adam.py:117: UserWarning: The `lr` argument is deprecated, use `learning_rate` instead.\n",
            "  super().__init__(name, **kwargs)\n"
          ]
        },
        {
          "output_type": "stream",
          "name": "stdout",
          "text": [
            "2084/2084 [==============================] - 15s 6ms/step - loss: 1.1972\n",
            "Epoch 2/3\n",
            "2084/2084 [==============================] - 13s 6ms/step - loss: 0.9176\n",
            "Epoch 3/3\n",
            "2084/2084 [==============================] - 13s 6ms/step - loss: 0.6810\n",
            "3125/3125 [==============================] - 7s 2ms/step - loss: 0.5468\n",
            "Epoch 1/3\n"
          ]
        },
        {
          "output_type": "stream",
          "name": "stderr",
          "text": [
            "/usr/local/lib/python3.10/dist-packages/keras/optimizers/legacy/adam.py:117: UserWarning: The `lr` argument is deprecated, use `learning_rate` instead.\n",
            "  super().__init__(name, **kwargs)\n"
          ]
        },
        {
          "output_type": "stream",
          "name": "stdout",
          "text": [
            "2084/2084 [==============================] - 14s 6ms/step - loss: 1.2104\n",
            "Epoch 2/3\n",
            "2084/2084 [==============================] - 13s 6ms/step - loss: 0.9037\n",
            "Epoch 3/3\n",
            "2084/2084 [==============================] - 13s 6ms/step - loss: 0.5216\n",
            "3125/3125 [==============================] - 7s 2ms/step - loss: 0.5078\n",
            "Epoch 1/3\n"
          ]
        },
        {
          "output_type": "stream",
          "name": "stderr",
          "text": [
            "/usr/local/lib/python3.10/dist-packages/keras/optimizers/legacy/adam.py:117: UserWarning: The `lr` argument is deprecated, use `learning_rate` instead.\n",
            "  super().__init__(name, **kwargs)\n"
          ]
        },
        {
          "output_type": "stream",
          "name": "stdout",
          "text": [
            "2084/2084 [==============================] - 14s 6ms/step - loss: 1.2447\n",
            "Epoch 2/3\n",
            "2084/2084 [==============================] - 13s 6ms/step - loss: 0.8841\n",
            "Epoch 3/3\n",
            "2084/2084 [==============================] - 13s 6ms/step - loss: 0.6286\n",
            "3125/3125 [==============================] - 7s 2ms/step - loss: 0.5431\n",
            "Epoch 1/3\n"
          ]
        },
        {
          "output_type": "stream",
          "name": "stderr",
          "text": [
            "/usr/local/lib/python3.10/dist-packages/keras/optimizers/legacy/adam.py:117: UserWarning: The `lr` argument is deprecated, use `learning_rate` instead.\n",
            "  super().__init__(name, **kwargs)\n"
          ]
        },
        {
          "output_type": "stream",
          "name": "stdout",
          "text": [
            "2084/2084 [==============================] - 14s 6ms/step - loss: 1.1951\n",
            "Epoch 2/3\n",
            "2084/2084 [==============================] - 13s 6ms/step - loss: 0.8390\n",
            "Epoch 3/3\n",
            "2084/2084 [==============================] - 13s 6ms/step - loss: 0.4558\n",
            "3125/3125 [==============================] - 7s 2ms/step - loss: 0.5085\n",
            "Epoch 1/3\n"
          ]
        },
        {
          "output_type": "stream",
          "name": "stderr",
          "text": [
            "/usr/local/lib/python3.10/dist-packages/keras/optimizers/legacy/adam.py:117: UserWarning: The `lr` argument is deprecated, use `learning_rate` instead.\n",
            "  super().__init__(name, **kwargs)\n"
          ]
        },
        {
          "output_type": "stream",
          "name": "stdout",
          "text": [
            "2084/2084 [==============================] - 14s 6ms/step - loss: 1.2368\n",
            "Epoch 2/3\n",
            "2084/2084 [==============================] - 13s 6ms/step - loss: 0.8704\n",
            "Epoch 3/3\n",
            "2084/2084 [==============================] - 13s 6ms/step - loss: 0.5495\n",
            "3125/3125 [==============================] - 7s 2ms/step - loss: 0.5314\n",
            "Epoch 1/3\n"
          ]
        },
        {
          "output_type": "stream",
          "name": "stderr",
          "text": [
            "/usr/local/lib/python3.10/dist-packages/keras/optimizers/legacy/adam.py:117: UserWarning: The `lr` argument is deprecated, use `learning_rate` instead.\n",
            "  super().__init__(name, **kwargs)\n"
          ]
        },
        {
          "output_type": "stream",
          "name": "stdout",
          "text": [
            "2084/2084 [==============================] - 14s 6ms/step - loss: 1.2057\n",
            "Epoch 2/3\n",
            "2084/2084 [==============================] - 13s 6ms/step - loss: 0.8834\n",
            "Epoch 3/3\n",
            "2084/2084 [==============================] - 13s 6ms/step - loss: 0.6540\n",
            "3125/3125 [==============================] - 7s 2ms/step - loss: 0.5539\n",
            "Epoch 1/3\n"
          ]
        },
        {
          "output_type": "stream",
          "name": "stderr",
          "text": [
            "/usr/local/lib/python3.10/dist-packages/keras/optimizers/legacy/adam.py:117: UserWarning: The `lr` argument is deprecated, use `learning_rate` instead.\n",
            "  super().__init__(name, **kwargs)\n"
          ]
        },
        {
          "output_type": "stream",
          "name": "stdout",
          "text": [
            "2084/2084 [==============================] - 14s 6ms/step - loss: 1.2026\n",
            "Epoch 2/3\n",
            "2084/2084 [==============================] - 13s 6ms/step - loss: 0.9097\n",
            "Epoch 3/3\n",
            "2084/2084 [==============================] - 13s 6ms/step - loss: 0.6270\n",
            "3125/3125 [==============================] - 7s 2ms/step - loss: 0.5422\n",
            "Epoch 1/3\n"
          ]
        },
        {
          "output_type": "stream",
          "name": "stderr",
          "text": [
            "/usr/local/lib/python3.10/dist-packages/keras/optimizers/legacy/adam.py:117: UserWarning: The `lr` argument is deprecated, use `learning_rate` instead.\n",
            "  super().__init__(name, **kwargs)\n"
          ]
        },
        {
          "output_type": "stream",
          "name": "stdout",
          "text": [
            "2084/2084 [==============================] - 14s 6ms/step - loss: 1.2096\n",
            "Epoch 2/3\n",
            "2084/2084 [==============================] - 12s 6ms/step - loss: 0.8915\n",
            "Epoch 3/3\n",
            "2084/2084 [==============================] - 13s 6ms/step - loss: 0.5288\n",
            "3125/3125 [==============================] - 7s 2ms/step - loss: 0.5168\n"
          ]
        }
      ]
    },
    {
      "cell_type": "code",
      "source": [
        "# Построение графика\n",
        "cv_result_df = pd.DataFrame({'cv_rmse': result}, index = embedding_layers)\n",
        "\n",
        "fig, ax = plt.subplots(figsize=(8, 6))\n",
        "sns.set_style('darkgrid')\n",
        "sns.pointplot(x=cv_result_df.index, y=cv_result_df.cv_rmse, ax=ax)\n",
        "ax.set(xlabel='Размерность эмбеддинга', ylabel='CV RMSE', title='3-Fold CV');"
      ],
      "metadata": {
        "colab": {
          "base_uri": "https://localhost:8080/",
          "height": 564
        },
        "id": "mE0Z1ZaAR52V",
        "outputId": "c2c87bac-446e-436a-d6e5-1807d5320aba"
      },
      "execution_count": 41,
      "outputs": [
        {
          "output_type": "display_data",
          "data": {
            "text/plain": [
              "<Figure size 800x600 with 1 Axes>"
            ],
            "image/png": "[encoded data removed]"
          },
          "metadata": {}
        }
      ]
    },
    {
      "cell_type": "markdown",
      "source": [
        "### Рекомендация топ 10 фильмов для пользователя\n",
        "\n",
        "После всех действий, можно попробовать сделать топ 10 рекомендаций для пользователя, в зависимости от его предыдущих оценок. Для этого, будет удобно создать функцию, которая выводит названия топ 10 фильмов.\n"
      ],
      "metadata": {
        "id": "bbnAsCXMVj57"
      }
    },
    {
      "cell_type": "code",
      "source": [
        "def recommendation_top_10(rec_model, client_id, top_k=10):\n",
        "    client_encoded = user2user_encoded[client_id]\n",
        "    movie_watched = sample_df[sample_df['userId'] == client_id]['movieId'].values\n",
        "    \n",
        "    movie_poll_encoded = []\n",
        "    for item in movie_Ids:\n",
        "        if not np.isin(item, movie_watched):\n",
        "            movie_poll_encoded.append(movie2movie_encoded[item])\n",
        "            \n",
        "    d = {'user_encoded': [client_encoded] * len(movie_poll_encoded), 'movie_encoded' : movie_poll_encoded}\n",
        "    client_df = pd.DataFrame(d)\n",
        "    \n",
        "    ratings = rec_model.predict([client_df['user_encoded'], client_df['movie_encoded']])\n",
        "    \n",
        "    top_ratings_idx = ratings.flatten().argsort()[-top_k:][::-1]\n",
        "    top_ratings = ratings[top_ratings_idx].flatten()\n",
        "    recommend_movieId = [movie_encoded2movie.get(movie_poll_encoded[x]) for x in top_ratings_idx]\n",
        "    \n",
        "    top_movie_rec = pd.DataFrame({'movieId': recommend_movieId, 'prediction': top_ratings}).set_index('movieId')\n",
        "    top_movie_rec = top_movie_rec.join(movie_df.set_index('movieId'))\n",
        "\n",
        "    return top_movie_rec"
      ],
      "metadata": {
        "id": "KsqKJ5FkVwBR"
      },
      "execution_count": 42,
      "outputs": []
    },
    {
      "cell_type": "code",
      "source": [
        "# Проверка функции\n",
        "client_id = int(np.random.choice(user_Ids, 1))\n",
        "print(f\"Recommended films for user: {client_id}\")\n",
        "recommendation_top_10(model, client_id)"
      ],
      "metadata": {
        "colab": {
          "base_uri": "https://localhost:8080/",
          "height": 429
        },
        "id": "HR3MmZCmWXUM",
        "outputId": "65555a2e-f97f-4c36-fb5c-53ced2772ab1"
      },
      "execution_count": 43,
      "outputs": [
        {
          "output_type": "stream",
          "name": "stdout",
          "text": [
            "Recommended films for user: 276525\n",
            "1143/1143 [==============================] - 2s 2ms/step\n"
          ]
        },
        {
          "output_type": "execute_result",
          "data": {
            "text/plain": [
              "         prediction                                              title  \\\n",
              "movieId                                                                  \n",
              "4312       4.729155   Himalaya (Himalaya - l'enfance d'un chef) (1999)   \n",
              "1860       4.724628                        Character (Karakter) (1997)   \n",
              "159817     4.719886                                Planet Earth (2006)   \n",
              "7136       4.647678               Stolen Kisses (Baisers volés) (1968)   \n",
              "2879       4.629609  Armour of God II: Operation Condor (Operation ...   \n",
              "3645       4.592619            Cleo from 5 to 7 (Cléo de 5 à 7) (1962)   \n",
              "55721      4.498368                Elite Squad (Tropa de Elite) (2007)   \n",
              "4614       4.495929                                   Kickboxer (1989)   \n",
              "136447     4.488607         George Carlin: You Are All Diseased (1999)   \n",
              "523        4.477603                            Ruby in Paradise (1993)   \n",
              "\n",
              "                              genres  \n",
              "movieId                               \n",
              "4312                 Adventure|Drama  \n",
              "1860                           Drama  \n",
              "159817                   Documentary  \n",
              "7136            Comedy|Drama|Romance  \n",
              "2879         Action|Adventure|Comedy  \n",
              "3645                           Drama  \n",
              "55721    Action|Crime|Drama|Thriller  \n",
              "4614                          Action  \n",
              "136447                        Comedy  \n",
              "523                            Drama  "
            ],
            "text/html": [
              "\n",
              "  <div id=\"df-c6c8ef9e-733d-4450-b374-e49f9ef3d72a\">\n",
              "    <div class=\"colab-df-container\">\n",
              "      <div>\n",
              "<style scoped>\n",
              "    .dataframe tbody tr th:only-of-type {\n",
              "        vertical-align: middle;\n",
              "    }\n",
              "\n",
              "    .dataframe tbody tr th {\n",
              "        vertical-align: top;\n",
              "    }\n",
              "\n",
              "    .dataframe thead th {\n",
              "        text-align: right;\n",
              "    }\n",
              "</style>\n",
              "<table border=\"1\" class=\"dataframe\">\n",
              "  <thead>\n",
              "    <tr style=\"text-align: right;\">\n",
              "      <th></th>\n",
              "      <th>prediction</th>\n",
              "      <th>title</th>\n",
              "      <th>genres</th>\n",
              "    </tr>\n",
              "    <tr>\n",
              "      <th>movieId</th>\n",
              "      <th></th>\n",
              "      <th></th>\n",
              "      <th></th>\n",
              "    </tr>\n",
              "  </thead>\n",
              "  <tbody>\n",
              "    <tr>\n",
              "      <th>4312</th>\n",
              "      <td>4.729155</td>\n",
              "      <td>Himalaya (Himalaya - l'enfance d'un chef) (1999)</td>\n",
              "      <td>Adventure|Drama</td>\n",
              "    </tr>\n",
              "    <tr>\n",
              "      <th>1860</th>\n",
              "      <td>4.724628</td>\n",
              "      <td>Character (Karakter) (1997)</td>\n",
              "      <td>Drama</td>\n",
              "    </tr>\n",
              "    <tr>\n",
              "      <th>159817</th>\n",
              "      <td>4.719886</td>\n",
              "      <td>Planet Earth (2006)</td>\n",
              "      <td>Documentary</td>\n",
              "    </tr>\n",
              "    <tr>\n",
              "      <th>7136</th>\n",
              "      <td>4.647678</td>\n",
              "      <td>Stolen Kisses (Baisers volés) (1968)</td>\n",
              "      <td>Comedy|Drama|Romance</td>\n",
              "    </tr>\n",
              "    <tr>\n",
              "      <th>2879</th>\n",
              "      <td>4.629609</td>\n",
              "      <td>Armour of God II: Operation Condor (Operation ...</td>\n",
              "      <td>Action|Adventure|Comedy</td>\n",
              "    </tr>\n",
              "    <tr>\n",
              "      <th>3645</th>\n",
              "      <td>4.592619</td>\n",
              "      <td>Cleo from 5 to 7 (Cléo de 5 à 7) (1962)</td>\n",
              "      <td>Drama</td>\n",
              "    </tr>\n",
              "    <tr>\n",
              "      <th>55721</th>\n",
              "      <td>4.498368</td>\n",
              "      <td>Elite Squad (Tropa de Elite) (2007)</td>\n",
              "      <td>Action|Crime|Drama|Thriller</td>\n",
              "    </tr>\n",
              "    <tr>\n",
              "      <th>4614</th>\n",
              "      <td>4.495929</td>\n",
              "      <td>Kickboxer (1989)</td>\n",
              "      <td>Action</td>\n",
              "    </tr>\n",
              "    <tr>\n",
              "      <th>136447</th>\n",
              "      <td>4.488607</td>\n",
              "      <td>George Carlin: You Are All Diseased (1999)</td>\n",
              "      <td>Comedy</td>\n",
              "    </tr>\n",
              "    <tr>\n",
              "      <th>523</th>\n",
              "      <td>4.477603</td>\n",
              "      <td>Ruby in Paradise (1993)</td>\n",
              "      <td>Drama</td>\n",
              "    </tr>\n",
              "  </tbody>\n",
              "</table>\n",
              "</div>\n",
              "      <button class=\"colab-df-convert\" onclick=\"convertToInteractive('df-c6c8ef9e-733d-4450-b374-e49f9ef3d72a')\"\n",
              "              title=\"Convert this dataframe to an interactive table.\"\n",
              "              style=\"display:none;\">\n",
              "        \n",
              "  <svg xmlns=\"http://www.w3.org/2000/svg\" height=\"24px\"viewBox=\"0 0 24 24\"\n",
              "       width=\"24px\">\n",
              "    <path d=\"M0 0h24v24H0V0z\" fill=\"none\"/>\n",
              "    <path d=\"M18.56 5.44l.94 2.06.94-2.06 2.06-.94-2.06-.94-.94-2.06-.94 2.06-2.06.94zm-11 1L8.5 8.5l.94-2.06 2.06-.94-2.06-.94L8.5 2.5l-.94 2.06-2.06.94zm10 10l.94 2.06.94-2.06 2.06-.94-2.06-.94-.94-2.06-.94 2.06-2.06.94z\"/><path d=\"M17.41 7.96l-1.37-1.37c-.4-.4-.92-.59-1.43-.59-.52 0-1.04.2-1.43.59L10.3 9.45l-7.72 7.72c-.78.78-.78 2.05 0 2.83L4 21.41c.39.39.9.59 1.41.59.51 0 1.02-.2 1.41-.59l7.78-7.78 2.81-2.81c.8-.78.8-2.07 0-2.86zM5.41 20L4 18.59l7.72-7.72 1.47 1.35L5.41 20z\"/>\n",
              "  </svg>\n",
              "      </button>\n",
              "      \n",
              "  <style>\n",
              "    .colab-df-container {\n",
              "      display:flex;\n",
              "      flex-wrap:wrap;\n",
              "      gap: 12px;\n",
              "    }\n",
              "\n",
              "    .colab-df-convert {\n",
              "      background-color: #E8F0FE;\n",
              "      border: none;\n",
              "      border-radius: 50%;\n",
              "      cursor: pointer;\n",
              "      display: none;\n",
              "      fill: #1967D2;\n",
              "      height: 32px;\n",
              "      padding: 0 0 0 0;\n",
              "      width: 32px;\n",
              "    }\n",
              "\n",
              "    .colab-df-convert:hover {\n",
              "      background-color: #E2EBFA;\n",
              "      box-shadow: 0px 1px 2px rgba(60, 64, 67, 0.3), 0px 1px 3px 1px rgba(60, 64, 67, 0.15);\n",
              "      fill: #174EA6;\n",
              "    }\n",
              "\n",
              "    [theme=dark] .colab-df-convert {\n",
              "      background-color: #3B4455;\n",
              "      fill: #D2E3FC;\n",
              "    }\n",
              "\n",
              "    [theme=dark] .colab-df-convert:hover {\n",
              "      background-color: #434B5C;\n",
              "      box-shadow: 0px 1px 3px 1px rgba(0, 0, 0, 0.15);\n",
              "      filter: drop-shadow(0px 1px 2px rgba(0, 0, 0, 0.3));\n",
              "      fill: #FFFFFF;\n",
              "    }\n",
              "  </style>\n",
              "\n",
              "      <script>\n",
              "        const buttonEl =\n",
              "          document.querySelector('#df-c6c8ef9e-733d-4450-b374-e49f9ef3d72a button.colab-df-convert');\n",
              "        buttonEl.style.display =\n",
              "          google.colab.kernel.accessAllowed ? 'block' : 'none';\n",
              "\n",
              "        async function convertToInteractive(key) {\n",
              "          const element = document.querySelector('#df-c6c8ef9e-733d-4450-b374-e49f9ef3d72a');\n",
              "          const dataTable =\n",
              "            await google.colab.kernel.invokeFunction('convertToInteractive',\n",
              "                                                     [key], {});\n",
              "          if (!dataTable) return;\n",
              "\n",
              "          const docLinkHtml = 'Like what you see? Visit the ' +\n",
              "            '<a target=\"_blank\" href=https://colab.research.google.com/notebooks/data_table.ipynb>data table notebook</a>'\n",
              "            + ' to learn more about interactive tables.';\n",
              "          element.innerHTML = '';\n",
              "          dataTable['output_type'] = 'display_data';\n",
              "          await google.colab.output.renderOutput(dataTable, element);\n",
              "          const docLink = document.createElement('div');\n",
              "          docLink.innerHTML = docLinkHtml;\n",
              "          element.appendChild(docLink);\n",
              "        }\n",
              "      </script>\n",
              "    </div>\n",
              "  </div>\n",
              "  "
            ]
          },
          "metadata": {},
          "execution_count": 43
        }
      ]
    },
    {
      "cell_type": "code",
      "source": [],
      "metadata": {
        "id": "VT4TdftHW7sp"
      },
      "execution_count": null,
      "outputs": []
    }
  ]
}